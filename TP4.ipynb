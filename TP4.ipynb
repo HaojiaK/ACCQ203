{
 "cells": [
  {
   "cell_type": "code",
   "execution_count": 1,
   "metadata": {
    "vscode": {
     "languageId": "python"
    }
   },
   "outputs": [
    {
     "name": "stdout",
     "output_type": "stream",
     "text": [
      "# *************************************************************************** #\n",
      "# *************************************************************************** #\n",
      "# TP4 : FACTORISATION DE POLYNOMES UNIVARIEES SUR CORPS FINIS                 #\n",
      "# *************************************************************************** #\n",
      "# *************************************************************************** #\n",
      "\n"
     ]
    }
   ],
   "source": [
    "print(\"\"\"\\\n",
    "# *************************************************************************** #\n",
    "# *************************************************************************** #\n",
    "# TP4 : FACTORISATION DE POLYNOMES UNIVARIEES SUR CORPS FINIS                 #\n",
    "# *************************************************************************** #\n",
    "# *************************************************************************** #\n",
    "\"\"\")\n",
    "\n",
    "# CONSIGNES\n",
    "#\n",
    "# Les seules lignes a modifier sont annoncee par \"Code pour l'exercice\"\n",
    "# indique en commmentaire et son signalees\n",
    "# Ne changez pas le nom des variables\n",
    "#\n",
    "# CONSEILS\n",
    "#\n",
    "# Ce modele vous sert a restituer votre travail. Il est deconseille d'ecrire\n",
    "# une longue suite d'instruction et de debugger ensuite. Il vaut mieux tester\n",
    "# le code que vous produisez ligne apres ligne, afficher les resultats et\n",
    "# controler que les objets que vous definissez sont bien ceux que vous attendez.\n",
    "#\n",
    "# Vous devez verifier votre code en le testant, y compris par des exemples que\n",
    "# vous aurez fabrique vous-meme.\n",
    "#"
   ]
  },
  {
   "cell_type": "code",
   "execution_count": 10,
   "metadata": {
    "vscode": {
     "languageId": "python"
    }
   },
   "outputs": [
    {
     "name": "stdout",
     "output_type": "stream",
     "text": [
      "# ****************************************************************************\n",
      "# FACTORISATION DES PUISSANCES\n",
      "# ****************************************************************************\n",
      "\n",
      "\n",
      "$ Question 3\n",
      "La racine de y^30 + 2*y^15 + alpha*y^3 + 1 est y^10 + 2*y^5 + (2*alpha + 1)*y + 1\n",
      "\n",
      "$ Question 4\n",
      "Test sur 100 exemples :  True\n"
     ]
    }
   ],
   "source": [
    "reset()\n",
    "print(\"\"\"\\\n",
    "# ****************************************************************************\n",
    "# FACTORISATION DES PUISSANCES\n",
    "# ****************************************************************************\n",
    "\"\"\")\n",
    "\n",
    "\n",
    "# Donnees de l'enonce de l'exercice\n",
    "\n",
    "F1849.<omega> = FiniteField(43^2,modulus=x^2+1)\n",
    "Pol1849.<x> = PolynomialRing(F1849)\n",
    "f=x^172+(3-2*omega)*x^129-5*omega*x^86+(2 + 4*omega)*x^43-1-omega \n",
    "\n",
    "F9.<alpha> = FiniteField(9)\n",
    "Pol9.<y> = PolynomialRing(F9)\n",
    "g = y^30-y^15+alpha*y^3+1\n",
    "\n",
    "# Code pour l'EXERCICE\n",
    "\n",
    "def racine_p_polynome(f):\n",
    "    Pol=f.parent()\n",
    "    x=Pol.gen()\n",
    "    p=Pol.base_ring().characteristic()\n",
    "    q=Pol.base_ring().cardinality()\n",
    "    rac = lambda x : x^(q/p) # Rise the degree to x^2\n",
    "    u = Pol([rac(x) for x in list(f)[::p]]) # Use the x^2 to fit the polynomial\n",
    "    assert(u^p==f)\n",
    "    return u\n",
    "\n",
    "\n",
    "# generate 100 polynomes to test\n",
    "def test():\n",
    "    for i in range(100): # loop iterates 100 times\n",
    "        p = random_prime(11) # generate a prime number p\n",
    "        s = randint(1,3) # generate a positive intenger s in the range 2 to 7\n",
    "        q = p**s # caculate the field size\n",
    "        Fq.<alpha>=FiniteField(q)# Create the finite field \n",
    "        Pol.<y>=PolynomialRing(Fq)# Create the polynomial field\n",
    "        #random generate a polynomial\n",
    "        v = [vv for vv in range(q)]\n",
    "        v = v[0:len(v)-1:p] # subset of v\n",
    "        f =0*y\n",
    "        for j in v:\n",
    "            if v!=q:\n",
    "                f=f+Fq.random_element()*y**j\n",
    "            else:\n",
    "                f = f + y**j\n",
    "        u = racine_p_polynome(f)\n",
    "        if(u^p != f):\n",
    "            return false\n",
    "    return true\n",
    "\n",
    "\n",
    "\n",
    "# # Affichage des resultats\n",
    "\n",
    "print( \"\\n$ Question 3\")\n",
    "print( \"La racine de\",g,\"est\",racine_p_polynome(g))\n",
    "print( \"\\n$ Question 4\")\n",
    "print( \"Test sur 100 exemples : \",test())"
   ]
  },
  {
   "cell_type": "code",
   "execution_count": null,
   "metadata": {
    "vscode": {
     "languageId": "python"
    }
   },
   "outputs": [],
   "source": [
    "reset()\n",
    "print(\"\"\"\\\n",
    "# ****************************************************************************\n",
    "# FACTORISATION SANS FACTEURS CARRES\n",
    "# ****************************************************************************\n",
    "\"\"\")\n",
    "\n",
    "# Donnees de l'enonce de l'exercice\n",
    "\n",
    "F7 = FiniteField(7)\n",
    "Pol7.<x> = PolynomialRing(F7)\n",
    "f = x^10 +6*x^9 +3*x^7 +3*x^3 +4*x^2 +2\n",
    "\n",
    "# Code pour l'EXERCICE\n",
    "def racine_p_polynome(f):\n",
    "    Pol=f.parent()\n",
    "    x=Pol.gen()\n",
    "    p=Pol.base_ring().characteristic()\n",
    "    q=Pol.base_ring().cardinality()\n",
    "    rac = lambda x : x^(q/p) # Rise the degree to x^2\n",
    "    u = Pol([rac(x) for x in list(f)[::p]]) # Use the x^2 to fit the polynomial\n",
    "    assert(u^p==f)\n",
    "    return u\n",
    "\n",
    "def myFsFC(f):\n",
    "    Pol=f.parent()\n",
    "    x=Pol.gen()\n",
    "    p=Pol.base_ring().characteristic()\n",
    "    q=Pol.base_ring().cardinality()\n",
    "    #-------------\n",
    "    d = f.degree\n",
    "    if d<=0:\n",
    "        return []\n",
    "    elif f.derivative()!=0\n",
    "    #-------------\n",
    "    retour = [(f,1)]\n",
    "    assert(prod([f^e for (f,e) in retour ]) == f)\n",
    "    return retour\n",
    "\n",
    "test = false    \n",
    "    \n",
    "# # Affichage des resultats\n",
    "\n",
    "print( \"\\n$ Question 2\")\n",
    "print( \"La factorisation de\",f,\"est\",myFsFC(f))\n",
    "print( \"\\n$ Question 4\")\n",
    "print( \"Test sur 100 exemples : \",test)"
   ]
  },
  {
   "cell_type": "code",
   "execution_count": null,
   "metadata": {
    "vscode": {
     "languageId": "python"
    }
   },
   "outputs": [],
   "source": [
    "reset()\n",
    "print(\"\"\"\\\n",
    "# ****************************************************************************\n",
    "# FACTORISATION ETAGEE EN DEGRES DISTINCTS\n",
    "# ****************************************************************************\n",
    "\"\"\")\n",
    "\n",
    "# Donnees de l'enonce de l'exercice\n",
    "\n",
    "F5 = FiniteField(5)\n",
    "Pol.<x>=PolynomialRing(F5)\n",
    "f = x^10-2*x^9+x^8+x^7-x^6-2*x^5+2*x^4+2*x^3-x\n",
    "\n",
    "# Code pour l'EXERCICE\n",
    "\n",
    "\n",
    "def myFEDD(f):\n",
    "    Pol=f.parent()\n",
    "    x=Pol.gen()\n",
    "    p=Pol.base_ring().characteristic()\n",
    "    q=Pol.base_ring().cardinality()\n",
    "    retour = [f]\n",
    "    assert(prod(retour) == f)\n",
    "    return retour\n",
    "\n",
    "# # Affichage des resultats\n",
    "\n",
    "print( \"\\n$ Question 1\")\n",
    "print( \"La factorisation de\",f,\"est\",myFEDD(f))"
   ]
  },
  {
   "cell_type": "code",
   "execution_count": 14,
   "metadata": {
    "vscode": {
     "languageId": "python"
    }
   },
   "outputs": [
    {
     "name": "stdout",
     "output_type": "stream",
     "text": [
      "\n",
      "$ Question 2\n"
     ]
    },
    {
     "ename": "RecursionError",
     "evalue": "maximum recursion depth exceeded while calling a Python object",
     "output_type": "error",
     "traceback": [
      "\u001b[0;31m---------------------------------------------------------------------------\u001b[0m",
      "\u001b[0;31mRecursionError\u001b[0m                            Traceback (most recent call last)",
      "\u001b[0;32m/var/tmp/sage-jc4b6yulaujayb9sr94ia88eourzeqip0oidmas3/local/lib/python3.8/site-packages/sage/all_cmdline.py\u001b[0m in \u001b[0;36m<module>\u001b[0;34m\u001b[0m\n\u001b[1;32m     43\u001b[0m \u001b[0;34m\u001b[0m\u001b[0m\n\u001b[1;32m     44\u001b[0m \u001b[0mprint\u001b[0m \u001b[0;34m(\u001b[0m\u001b[0;34m\"\\n$ Question 2\"\u001b[0m\u001b[0;34m)\u001b[0m\u001b[0;34m\u001b[0m\u001b[0;34m\u001b[0m\u001b[0m\n\u001b[0;32m---> 45\u001b[0;31m \u001b[0mprint\u001b[0m \u001b[0;34m(\u001b[0m\u001b[0;34m\"La factorisation de\"\u001b[0m\u001b[0;34m,\u001b[0m\u001b[0mf\u001b[0m\u001b[0;34m,\u001b[0m\u001b[0;34m\"est\"\u001b[0m\u001b[0;34m,\u001b[0m\u001b[0mmyFsFC\u001b[0m\u001b[0;34m(\u001b[0m\u001b[0mf\u001b[0m\u001b[0;34m)\u001b[0m\u001b[0;34m)\u001b[0m\u001b[0;34m\u001b[0m\u001b[0;34m\u001b[0m\u001b[0m\n\u001b[0m",
      "\u001b[0;32m/var/tmp/sage-jc4b6yulaujayb9sr94ia88eourzeqip0oidmas3/local/lib/python3.8/site-packages/sage/all_cmdline.py\u001b[0m in \u001b[0;36mmyFsFC\u001b[0;34m(f)\u001b[0m\n\u001b[1;32m     32\u001b[0m         \u001b[0;32mif\u001b[0m \u001b[0mt\u001b[0m \u001b[0;34m!=\u001b[0m \u001b[0mInteger\u001b[0m\u001b[0;34m(\u001b[0m\u001b[0;36m1\u001b[0m\u001b[0;34m)\u001b[0m\u001b[0;34m:\u001b[0m\u001b[0;34m\u001b[0m\u001b[0;34m\u001b[0m\u001b[0m\n\u001b[1;32m     33\u001b[0m             \u001b[0mr\u001b[0m \u001b[0;34m=\u001b[0m \u001b[0mq\u001b[0m\u001b[0;34m/\u001b[0m\u001b[0mp\u001b[0m\u001b[0;34m\u001b[0m\u001b[0;34m\u001b[0m\u001b[0m\n\u001b[0;32m---> 34\u001b[0;31m             \u001b[0mL\u001b[0m \u001b[0;34m=\u001b[0m \u001b[0mL\u001b[0m \u001b[0;34m+\u001b[0m \u001b[0mmyFsFC\u001b[0m\u001b[0;34m(\u001b[0m\u001b[0mt\u001b[0m\u001b[0;34m**\u001b[0m\u001b[0;34m(\u001b[0m\u001b[0mr\u001b[0m\u001b[0;34m)\u001b[0m\u001b[0;34m)\u001b[0m\u001b[0;34m\u001b[0m\u001b[0;34m\u001b[0m\u001b[0m\n\u001b[0m\u001b[1;32m     35\u001b[0m \u001b[0;34m\u001b[0m\u001b[0m\n\u001b[1;32m     36\u001b[0m     \u001b[0;32melse\u001b[0m\u001b[0;34m:\u001b[0m\u001b[0;34m\u001b[0m\u001b[0;34m\u001b[0m\u001b[0m\n",
      "\u001b[0;32m/var/tmp/sage-jc4b6yulaujayb9sr94ia88eourzeqip0oidmas3/local/lib/python3.8/site-packages/sage/all_cmdline.py\u001b[0m in \u001b[0;36mmyFsFC\u001b[0;34m(f)\u001b[0m\n\u001b[1;32m     35\u001b[0m \u001b[0;34m\u001b[0m\u001b[0m\n\u001b[1;32m     36\u001b[0m     \u001b[0;32melse\u001b[0m\u001b[0;34m:\u001b[0m\u001b[0;34m\u001b[0m\u001b[0;34m\u001b[0m\u001b[0m\n\u001b[0;32m---> 37\u001b[0;31m         \u001b[0mL\u001b[0m \u001b[0;34m=\u001b[0m \u001b[0mmyFsFC\u001b[0m\u001b[0;34m(\u001b[0m\u001b[0mf\u001b[0m\u001b[0;34m**\u001b[0m\u001b[0;34m(\u001b[0m\u001b[0mq\u001b[0m\u001b[0;34m/\u001b[0m\u001b[0mp\u001b[0m\u001b[0;34m)\u001b[0m\u001b[0;34m)\u001b[0m\u001b[0;34m\u001b[0m\u001b[0;34m\u001b[0m\u001b[0m\n\u001b[0m\u001b[1;32m     38\u001b[0m \u001b[0;34m\u001b[0m\u001b[0m\n\u001b[1;32m     39\u001b[0m     \u001b[0mretour\u001b[0m \u001b[0;34m=\u001b[0m \u001b[0mL\u001b[0m\u001b[0;34m\u001b[0m\u001b[0;34m\u001b[0m\u001b[0m\n",
      "... last 1 frames repeated, from the frame below ...\n",
      "\u001b[0;32m/var/tmp/sage-jc4b6yulaujayb9sr94ia88eourzeqip0oidmas3/local/lib/python3.8/site-packages/sage/all_cmdline.py\u001b[0m in \u001b[0;36mmyFsFC\u001b[0;34m(f)\u001b[0m\n\u001b[1;32m     35\u001b[0m \u001b[0;34m\u001b[0m\u001b[0m\n\u001b[1;32m     36\u001b[0m     \u001b[0;32melse\u001b[0m\u001b[0;34m:\u001b[0m\u001b[0;34m\u001b[0m\u001b[0;34m\u001b[0m\u001b[0m\n\u001b[0;32m---> 37\u001b[0;31m         \u001b[0mL\u001b[0m \u001b[0;34m=\u001b[0m \u001b[0mmyFsFC\u001b[0m\u001b[0;34m(\u001b[0m\u001b[0mf\u001b[0m\u001b[0;34m**\u001b[0m\u001b[0;34m(\u001b[0m\u001b[0mq\u001b[0m\u001b[0;34m/\u001b[0m\u001b[0mp\u001b[0m\u001b[0;34m)\u001b[0m\u001b[0;34m)\u001b[0m\u001b[0;34m\u001b[0m\u001b[0;34m\u001b[0m\u001b[0m\n\u001b[0m\u001b[1;32m     38\u001b[0m \u001b[0;34m\u001b[0m\u001b[0m\n\u001b[1;32m     39\u001b[0m     \u001b[0mretour\u001b[0m \u001b[0;34m=\u001b[0m \u001b[0mL\u001b[0m\u001b[0;34m\u001b[0m\u001b[0;34m\u001b[0m\u001b[0m\n",
      "\u001b[0;31mRecursionError\u001b[0m: maximum recursion depth exceeded while calling a Python object"
     ]
    }
   ],
   "source": [
    "F7 = FiniteField(7)\n",
    "Pol7.<x> = PolynomialRing(F7)\n",
    "f = x^10 +6*x^9 +3*x^7 +3*x^3 +4*x^2 +2\n",
    "# Code pour l'EXERCICE\n",
    "\n",
    "\n",
    "def myFsFC(f):\n",
    "    Pol=f.parent()\n",
    "    x=Pol.gen()\n",
    "    p=Pol.base_ring().characteristic()\n",
    "    q=Pol.base_ring().cardinality()\n",
    "\n",
    "    if (f.degree() <= 0):\n",
    "        return []\n",
    "    elif (f.derivative() != 0 ):\n",
    "        i = 1\n",
    "        retour = []\n",
    "        t= gcd(f,f.derivative())\n",
    "        u = f/t\n",
    "        u = Pol(u)\n",
    "        while ( u != 1):\n",
    "            y,_,_ = xgcd(t,u)\n",
    "            if ((i%p != 0) and (u/y != 1)):\n",
    "                pp = u/y\n",
    "                pp = Pol(pp)\n",
    "                L.append((u/y,i))\n",
    "            i = i + 1\n",
    "            u = y\n",
    "            t = t/y\n",
    "            t = Pol(t)\n",
    "        if t != 1:\n",
    "            r = q/p\n",
    "            L = L + myFsFC(t^(r))\n",
    "            \n",
    "    else:\n",
    "        L = myFsFC(f^(q/p))\n",
    "    \n",
    "    assert(prod([f^e for (f,e) in retour ]) == f)\n",
    "    return retour\n",
    "# # Affichage des resultats\n",
    "\n",
    "print (\"\\n$ Question 2\")\n",
    "print (\"La factorisation de\",f,\"est\",myFsFC(f))"
   ]
  },
  {
   "cell_type": "code",
   "execution_count": null,
   "metadata": {
    "vscode": {
     "languageId": "python"
    }
   },
   "outputs": [],
   "source": [
    "reset()\n",
    "print(\"\"\"\\\n",
    "# ****************************************************************************\n",
    "# CANTOR-ZASSENHAUSS\n",
    "# ****************************************************************************\n",
    "\"\"\")\n",
    "\n",
    "# Donnees de l'enonce de l'exercice\n",
    "\n",
    "q=3\n",
    "d=4\n",
    "Fq=FiniteField(q)\n",
    "Polq.<x> = PolynomialRing(Fq) \n",
    "[f for f in Polq.polynomials(of_degree=d) if f.is_irreducible()\n",
    " and f.leading_coefficient()==1]\n",
    "\n",
    "# Code pour l'EXERCICE\n",
    "\n",
    "def myCZ(f):\n",
    "    Pol=f.parent()\n",
    "    x=Pol.gen()\n",
    "    p=Pol.base_ring().characteristic()\n",
    "    q=Pol.base_ring().cardinality()\n",
    "    retour = [f]\n",
    "    assert(prod(retour) == f)\n",
    "    return retour\n",
    "    \n",
    "def myCZ2(f):\n",
    "    Pol=f.parent()\n",
    "    x=Pol.gen()\n",
    "    p=Pol.base_ring().characteristic()\n",
    "    q=Pol.base_ring().cardinality()\n",
    "    retour = [f]\n",
    "    assert(prod(retour) == f)\n",
    "    return retour    \n",
    "\n",
    "test  = false\n",
    "\n",
    "# # Affichage des resultats"
   ]
  },
  {
   "cell_type": "code",
   "execution_count": null,
   "metadata": {
    "vscode": {
     "languageId": "python"
    }
   },
   "outputs": [],
   "source": [
    "reset()\n",
    "print(\"\"\"\\\n",
    "# ****************************************************************************\n",
    "# FACTORISATION COMPLETE\n",
    "# ****************************************************************************\n",
    "\"\"\")\n",
    "\n",
    "\n",
    "# Donnees de l'enonce de l'exercice\n",
    "\n",
    "q=3\n",
    "Fq=FiniteField(q)\n",
    "Polq.<x> = PolynomialRing(Fq) \n",
    "L1 = [f for f in Polq.polynomials(of_degree=1) if f.is_irreducible()\n",
    "and f.leading_coefficient()==1]\n",
    "L2 = [f for f in Polq.polynomials(of_degree=2) if f.is_irreducible()\n",
    "and f.leading_coefficient()==1]\n",
    "L3 = [f for f in Polq.polynomials(of_degree=3) if f.is_irreducible()\n",
    "and f.leading_coefficient()==1]\n",
    "    \n",
    "f = L1[0]*L1[1]^3*L1[2]^4\n",
    "f *= L2[0]*L2[1]^4*L2[2]^4\n",
    "f *= L3[0]*L3[1]*L3[2]^2*L3[3]^2*L3[4]^3*L3[5]^3*L3[6]^4*L3[7]^4\n",
    "factor(f)\n",
    "\n",
    "\n",
    "# Code pour l'EXERCICE\n",
    "\n",
    "def myFactorisation(f):\n",
    "    Pol=f.parent()\n",
    "    x=Pol.gen()\n",
    "    p=Pol.base_ring().characteristic()\n",
    "    q=Pol.base_ring().cardinality()\n",
    "    retour = [(f,1)]\n",
    "    assert(prod([f^e for (f,e) in retour ]) == f)\n",
    "    return retour\n",
    "\n",
    "\n",
    "\n",
    "# # Affichage des resultats\n",
    "\n",
    "print( \"\\n$ Question 1\")\n",
    "print( \"La factorisation de\",f,\"est\",myFactorisation(f))"
   ]
  },
  {
   "cell_type": "code",
   "execution_count": null,
   "metadata": {
    "vscode": {
     "languageId": "python"
    }
   },
   "outputs": [],
   "source": [
    "reset()\n",
    "print(\"\"\"\\\n",
    "# ****************************************************************************\n",
    "# RACINES D'UN POLYNOME\n",
    "# ****************************************************************************\n",
    "\"\"\")\n",
    "\n",
    "# Donnees de l'enonce de l'exercice\n",
    "\n",
    "q=3\n",
    "Fq=FiniteField(q)\n",
    "Polq.<x> = PolynomialRing(Fq) \n",
    "L1 = [f for f in Polq.polynomials(of_degree=1) if f.is_irreducible()\n",
    "and f.leading_coefficient()==1]\n",
    "L2 = [f for f in Polq.polynomials(of_degree=2) if f.is_irreducible()\n",
    "and f.leading_coefficient()==1]\n",
    "L3 = [f for f in Polq.polynomials(of_degree=3) if f.is_irreducible()\n",
    "and f.leading_coefficient()==1]\n",
    "    \n",
    "f = L1[0]*L1[1]^3*L1[2]^4\n",
    "f *= L2[0]*L2[1]^4*L2[2]^4\n",
    "f *= L3[0]*L3[1]*L3[2]^2*L3[3]^2*L3[4]^3*L3[5]^3*L3[6]^4*L3[7]^4\n",
    "\n",
    "\n",
    "# Code pour l'EXERCICE\n",
    "\n",
    "\n",
    "def myRacine(f):\n",
    "    Pol=f.parent()\n",
    "    x=Pol.gen()\n",
    "    p=Pol.base_ring().characteristic()\n",
    "    q=Pol.base_ring().cardinality()\n",
    "    retour = []\n",
    "    assert(f(z)==0 for z in retour)\n",
    "    return retour\n",
    "\n",
    "# # Affichage des resultats\n",
    "\n",
    "print( \"\\n$ Question 1\")\n",
    "print( \"Les racines de \",f,\"sont\",myRacine(f))"
   ]
  },
  {
   "cell_type": "code",
   "execution_count": null,
   "metadata": {
    "vscode": {
     "languageId": "python"
    }
   },
   "outputs": [],
   "source": [
    "reset()\n",
    "print(\"\"\"\\\n",
    "# ****************************************************************************\n",
    "# ETUDE DE CANTOR-ZASSENHAUSS\n",
    "# ****************************************************************************\n",
    "\"\"\")\n",
    "\n",
    "# Donnees de l'enonce de l'exercice\n",
    "\n",
    "# Code pour l'EXERCICE\n",
    "\n",
    "\n",
    "# # Affichage des resultats"
   ]
  }
 ],
 "metadata": {
  "kernelspec": {
   "display_name": "SageMath 9.2",
   "language": "sage",
   "name": "sagemath_9_2_all"
  },
  "language_info": {
   "codemirror_mode": {
    "name": "ipython",
    "version": 3
   },
   "file_extension": ".py",
   "mimetype": "text/x-python",
   "name": "sage",
   "nbconvert_exporter": "python",
   "pygments_lexer": "ipython3",
   "version": "3.8.5"
  }
 },
 "nbformat": 4,
 "nbformat_minor": 2
}
